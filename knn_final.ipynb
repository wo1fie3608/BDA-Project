{
  "nbformat": 4,
  "nbformat_minor": 0,
  "metadata": {
    "colab": {
      "name": "knn.ipynb",
      "provenance": [],
      "collapsed_sections": [],
      "mount_file_id": "1ROUTXvQlniCfmDvG7mrt9PTeeMOD9JzS",
      "authorship_tag": "ABX9TyP9SDcq4bqj1kZLuvxmfcVJ",
      "include_colab_link": true
    },
    "kernelspec": {
      "name": "python3",
      "display_name": "Python 3"
    },
    "language_info": {
      "name": "python"
    }
  },
  "cells": [
    {
      "cell_type": "markdown",
      "metadata": {
        "id": "view-in-github",
        "colab_type": "text"
      },
      "source": [
        "<a href=\"https://colab.research.google.com/github/wo1fie3608/BDA-Project/blob/main/knn_final.ipynb\" target=\"_parent\"><img src=\"https://colab.research.google.com/assets/colab-badge.svg\" alt=\"Open In Colab\"/></a>"
      ]
    },
    {
      "cell_type": "markdown",
      "source": [
        "**Importing Libraries**"
      ],
      "metadata": {
        "id": "XrICf8qfwPUc"
      }
    },
    {
      "cell_type": "code",
      "execution_count": 1,
      "metadata": {
        "id": "oHjT4j0bl17I"
      },
      "outputs": [],
      "source": [
        "import pandas as pd\n",
        "import numpy as np\n",
        "import matplotlib.pyplot as plt"
      ]
    },
    {
      "cell_type": "markdown",
      "source": [
        "**Importing data directly from Google Drive**"
      ],
      "metadata": {
        "id": "vvlFvmUGr_ru"
      }
    },
    {
      "cell_type": "code",
      "source": [
        "from google.colab import drive\n",
        "drive.mount('/content/drive')"
      ],
      "metadata": {
        "colab": {
          "base_uri": "https://localhost:8080/"
        },
        "id": "-Ij1RBJYmYLZ",
        "outputId": "de5e9fef-a5a0-4a7d-99ea-56b64a541435"
      },
      "execution_count": 2,
      "outputs": [
        {
          "output_type": "stream",
          "name": "stdout",
          "text": [
            "Drive already mounted at /content/drive; to attempt to forcibly remount, call drive.mount(\"/content/drive\", force_remount=True).\n"
          ]
        }
      ]
    },
    {
      "cell_type": "markdown",
      "source": [
        "**Feature Selection (Gender to Male and Female Matrix)**"
      ],
      "metadata": {
        "id": "m8CzibE9sH0W"
      }
    },
    {
      "cell_type": "code",
      "source": [
        "data=pd.read_csv('/content/drive/MyDrive/iphone_purchase_records.csv')\n",
        "print(data)\n",
        "gender_bin=pd.get_dummies(data[\"Gender\"])\n",
        "data=pd.concat((gender_bin, data),axis=1)\n",
        "data=data.drop([\"Gender\"], axis=1)\n",
        "print(data)"
      ],
      "metadata": {
        "colab": {
          "base_uri": "https://localhost:8080/"
        },
        "id": "mCl-9sAZmiFy",
        "outputId": "3d2d5a4e-13b2-4efd-be2a-5dc4597f9201"
      },
      "execution_count": 3,
      "outputs": [
        {
          "output_type": "stream",
          "name": "stdout",
          "text": [
            "     Gender  Age  Salary  Purchase Iphone\n",
            "0      Male   19   19000                0\n",
            "1      Male   35   20000                0\n",
            "2    Female   26   43000                0\n",
            "3    Female   27   57000                0\n",
            "4      Male   19   76000                0\n",
            "..      ...  ...     ...              ...\n",
            "395  Female   46   41000                1\n",
            "396    Male   51   23000                1\n",
            "397  Female   50   20000                1\n",
            "398    Male   36   33000                0\n",
            "399  Female   49   36000                1\n",
            "\n",
            "[400 rows x 4 columns]\n",
            "     Female  Male  Age  Salary  Purchase Iphone\n",
            "0         0     1   19   19000                0\n",
            "1         0     1   35   20000                0\n",
            "2         1     0   26   43000                0\n",
            "3         1     0   27   57000                0\n",
            "4         0     1   19   76000                0\n",
            "..      ...   ...  ...     ...              ...\n",
            "395       1     0   46   41000                1\n",
            "396       0     1   51   23000                1\n",
            "397       1     0   50   20000                1\n",
            "398       0     1   36   33000                0\n",
            "399       1     0   49   36000                1\n",
            "\n",
            "[400 rows x 5 columns]\n"
          ]
        }
      ]
    },
    {
      "cell_type": "markdown",
      "source": [
        "**Data Splitting for Training and Testing**\n",
        "\n",
        "---\n",
        "\n",
        "\n",
        "**Feature Scaling**"
      ],
      "metadata": {
        "id": "YgEeVagOsTzf"
      }
    },
    {
      "cell_type": "code",
      "source": [
        "X=data.iloc[:,:-1]\n",
        "y=data.iloc[:,-1]\n",
        "from sklearn.model_selection import train_test_split\n",
        "from sklearn.preprocessing import StandardScaler\n",
        "X_train,X_test,y_train,y_test=train_test_split(X,y,test_size=0.3,random_state=128)\n",
        "scale= StandardScaler()\n",
        "X_train = scale.fit_transform(X_train)\n",
        "X_test = scale.transform(X_test)\n",
        "X_train=pd.DataFrame(X_train)\n",
        "X_test=pd.DataFrame(X_test)"
      ],
      "metadata": {
        "id": "U_UNiCrqnX2p"
      },
      "execution_count": 4,
      "outputs": []
    },
    {
      "cell_type": "markdown",
      "source": [
        "**KNN algorithm hard coding (No inbuilt libraries used)**"
      ],
      "metadata": {
        "id": "1FWBCV3as_4T"
      }
    },
    {
      "cell_type": "code",
      "source": [
        "def knearest(X_traint,X_testt,k,y_traint):\n",
        "  X_traint=X_traint.to_numpy()\n",
        "  X_testt=X_testt.to_numpy()\n",
        "  euclidian_distance=(X_traint-X_testt)**2\n",
        "  euclidian_distance=np.sum(euclidian_distance, axis = 1)**0.5\n",
        "  temp=[]\n",
        "  ind=0\n",
        "  for i in euclidian_distance:\n",
        "    temp.append([i,ind])\n",
        "    ind=ind+1\n",
        "  temp=np.array(temp)\n",
        "  temp_sorted = temp[np.argsort(temp[:, 0])]\n",
        "  zero=0\n",
        "  one=0\n",
        "  for i in range(k):\n",
        "    if(y_traint.iloc[int(temp_sorted[i][1])]==0):\n",
        "      zero=zero+1\n",
        "    else:\n",
        "      one=one+1\n",
        "  if(one>zero):\n",
        "    return 1\n",
        "  else:\n",
        "    return 0\n",
        "\n"
      ],
      "metadata": {
        "id": "N3LQ3zMboPYI"
      },
      "execution_count": 5,
      "outputs": []
    },
    {
      "cell_type": "markdown",
      "source": [
        "**Training and selecting optimal K value using brute force and comparing performance**"
      ],
      "metadata": {
        "id": "XgGME9CgtKws"
      }
    },
    {
      "cell_type": "code",
      "source": [
        "k=1\n",
        "accuracy=0\n",
        "incorrectfinal=len(X_test)\n",
        "recallfinal=0\n",
        "precisionfinal=0\n",
        "fscorefinal=0\n",
        "comparision={}\n",
        "for i in range(1,int(len(X_train)**0.5),2):\n",
        "  correct=0\n",
        "  tn=0\n",
        "  fp=0\n",
        "  fn=0\n",
        "  tp=0\n",
        "  for j in range(0,len(X_test)):\n",
        "    predicted=knearest(X_train,X_test.iloc[j,:],i,y_train)\n",
        "    if(y_test.iloc[j]==0):\n",
        "      if(predicted==0):\n",
        "        tn+=1\n",
        "      else:\n",
        "        fp+=1\n",
        "    else:\n",
        "      if(predicted==0):\n",
        "        fn+=1\n",
        "      else:\n",
        "        tp+=1\n",
        "    correct+=(predicted==y_test.iloc[j])\n",
        "  incorrect=len(X_test)-correct\n",
        "  correct=correct/len(X_test)\n",
        "  comparision[i]={}\n",
        "  comparision[i]['accuracy']=correct*100\n",
        "  comparision[i]['precision']=tp*100/(tp+fp)\n",
        "  comparision[i]['recall']=tp*100/(tp+fn)\n",
        "  comparision[i]['F1 score']=2*(tp*100/(tp+fp))*(tp*100/(tp+fn))/((tp*100/(tp+fp))+(tp*100/(tp+fn)))\n",
        "  comparision[i]['correct']=len(X_test)-incorrect\n",
        "  comparision[i]['incorrect']=incorrect\n",
        "  print('********')\n",
        "  print(\"for k=\",i,\" accuracy:\",round(correct*100,2),\"%\",\" precison:\",round(tp*100/(tp+fp),2),\"%\",\" recall:\",round(tp*100/(tp+fn),2),\"%\",\" F1 score:\",round(2*(tp*100/(tp+fp))*(tp*100/(tp+fn))/((tp*100/(tp+fp))+(tp*100/(tp+fn))),2),\"%\",sep='')\n",
        "  if(accuracy<correct):\n",
        "    accuracy=correct\n",
        "    k=i\n",
        "    incorrectfinal=incorrect\n",
        "    recallfinal=tp/(tp+fn)\n",
        "    precisionfinal=tp/(tp+fp)\n",
        "    fscorefinal=2*recallfinal*precisionfinal/(precisionfinal+recallfinal)\n",
        "    \n",
        "print('********')\n",
        "print('\\033[1m',\"Optimal K value is:\",k,\" with accuracy:\",round(accuracy*100,2),\"%\",\" and F1 score:\",round(fscorefinal*100,2),'%','\\033[0m',sep='')\n",
        "print('********')"
      ],
      "metadata": {
        "colab": {
          "base_uri": "https://localhost:8080/"
        },
        "id": "msxHL_uuoU71",
        "outputId": "ce1d90aa-7859-4c21-9fc2-1ae9f5f9a3b3"
      },
      "execution_count": 6,
      "outputs": [
        {
          "output_type": "stream",
          "name": "stdout",
          "text": [
            "********\n",
            "for k=1 accuracy:90.83% precison:91.89% recall:80.95% F1 score:86.08%\n",
            "********\n",
            "for k=3 accuracy:90.83% precison:89.74% recall:83.33% F1 score:86.42%\n",
            "********\n",
            "for k=5 accuracy:94.17% precison:92.68% recall:90.48% F1 score:91.57%\n",
            "********\n",
            "for k=7 accuracy:93.33% precison:92.5% recall:88.1% F1 score:90.24%\n",
            "********\n",
            "for k=9 accuracy:94.17% precison:92.68% recall:90.48% F1 score:91.57%\n",
            "********\n",
            "for k=11 accuracy:93.33% precison:90.48% recall:90.48% F1 score:90.48%\n",
            "********\n",
            "for k=13 accuracy:92.5% precison:90.24% recall:88.1% F1 score:89.16%\n",
            "********\n",
            "for k=15 accuracy:92.5% precison:90.24% recall:88.1% F1 score:89.16%\n",
            "********\n",
            "\u001b[1mOptimal K value is:5 with accuracy:94.17% and F1 score:91.57%\u001b[0m\n",
            "********\n"
          ]
        }
      ]
    },
    {
      "cell_type": "markdown",
      "source": [
        "**Storing performance of optimal K value in a dictionary for visual Data Visualization**"
      ],
      "metadata": {
        "id": "Vy85M8KdtegD"
      }
    },
    {
      "cell_type": "code",
      "source": [
        "results={}\n",
        "results[\"accuracy\"]=round(accuracy*100,2)\n",
        "results[\"precision\"]=round(precisionfinal*100,2)\n",
        "results[\"recall\"]=round(recallfinal*100,2)\n",
        "results[\"f1score\"]=round(fscorefinal*100,2)"
      ],
      "metadata": {
        "id": "ULzPvBLVoVZk"
      },
      "execution_count": 7,
      "outputs": []
    },
    {
      "cell_type": "markdown",
      "source": [
        "**Storing Accuracy of all K values in a dictionary for visual Data Visualization**"
      ],
      "metadata": {
        "id": "WkYOt8WpttXR"
      }
    },
    {
      "cell_type": "code",
      "source": [
        "temp={} \n",
        "for i in range(1,int(len(X_train)**0.5),2):\n",
        "  temp['k = '+str(i)]=comparision[i]['accuracy']\n",
        "parameters = list(temp.keys())\n",
        "values = list(temp.values())  \n",
        "plt.style.use('ggplot')\n",
        "plt.locator_params(axis=\"y\", nbins=15)\n",
        "plt.locator_params(axis=\"x\", nbins=30)\n",
        "plt.bar(parameters, values, color ='blue')\n",
        "plt.xlabel(\"K value\")\n",
        "plt.ylabel(\"Score in percentage\")\n",
        "plt.title(\"Accuracy Comparision of all K values\")\n",
        "plt.show()"
      ],
      "metadata": {
        "colab": {
          "base_uri": "https://localhost:8080/",
          "height": 298
        },
        "id": "89mKTvFKpDyO",
        "outputId": "86e7b73f-8f12-45c6-e3c1-80b3d57fb89c"
      },
      "execution_count": 8,
      "outputs": [
        {
          "output_type": "display_data",
          "data": {
            "image/png": "[encoded data removed]",
            "text/plain": [
              "<Figure size 432x288 with 1 Axes>"
            ]
          },
          "metadata": {}
        }
      ]
    },
    {
      "cell_type": "markdown",
      "source": [
        "**Storing Precision of all K values in a dictionary for visual Data Visualization**"
      ],
      "metadata": {
        "id": "fu1kX3xIuHz8"
      }
    },
    {
      "cell_type": "code",
      "source": [
        "temp={} \n",
        "for i in range(1,int(len(X_train)**0.5),2):\n",
        "  temp['k = '+str(i)]=comparision[i]['precision']\n",
        "parameters = list(temp.keys())\n",
        "values = list(temp.values())  \n",
        "plt.style.use('ggplot')\n",
        "plt.locator_params(axis=\"y\", nbins=15)\n",
        "plt.bar(parameters, values, color ='blue')\n",
        "plt.xlabel(\"K value\")\n",
        "plt.ylabel(\"Score in percentage\")\n",
        "plt.title(\"Precision Comparision of all K values\")\n",
        "plt.show()"
      ],
      "metadata": {
        "colab": {
          "base_uri": "https://localhost:8080/",
          "height": 298
        },
        "id": "iYzKkr-wpy5Q",
        "outputId": "f7c117fa-b6f3-4ccb-bcd7-929b05d5b9e4"
      },
      "execution_count": 9,
      "outputs": [
        {
          "output_type": "display_data",
          "data": {
            "image/png": "[encoded data removed]",
            "text/plain": [
              "<Figure size 432x288 with 1 Axes>"
            ]
          },
          "metadata": {}
        }
      ]
    },
    {
      "cell_type": "markdown",
      "source": [
        "**Storing Recall of all K values in a dictionary for visual Data Visualization**"
      ],
      "metadata": {
        "id": "7QGtiQn5uMMD"
      }
    },
    {
      "cell_type": "code",
      "source": [
        "temp={} \n",
        "for i in range(1,int(len(X_train)**0.5),2):\n",
        "  temp['k = '+str(i)]=comparision[i]['recall']\n",
        "parameters = list(temp.keys())\n",
        "values = list(temp.values())  \n",
        "plt.style.use('ggplot')\n",
        "plt.locator_params(axis=\"y\", nbins=15)\n",
        "plt.bar(parameters, values, color ='blue')\n",
        "plt.xlabel(\"K value\")\n",
        "plt.ylabel(\"Score in percentage\")\n",
        "plt.title(\"Recall Comparision of all K values\")\n",
        "plt.show()"
      ],
      "metadata": {
        "colab": {
          "base_uri": "https://localhost:8080/",
          "height": 298
        },
        "id": "4JuCSx2Pp56K",
        "outputId": "69692f0d-6c66-4b36-a6ac-7b35c53bf170"
      },
      "execution_count": 10,
      "outputs": [
        {
          "output_type": "display_data",
          "data": {
            "image/png": "[encoded data removed]",
            "text/plain": [
              "<Figure size 432x288 with 1 Axes>"
            ]
          },
          "metadata": {}
        }
      ]
    },
    {
      "cell_type": "markdown",
      "source": [
        "**Storing F1 Score of all K values in a dictionary for visual Data Visualization**"
      ],
      "metadata": {
        "id": "pdEQElGYugYT"
      }
    },
    {
      "cell_type": "code",
      "source": [
        "temp={} \n",
        "for i in range(1,int(len(X_train)**0.5),2):\n",
        "  temp['k = '+str(i)]=comparision[i]['F1 score']\n",
        "parameters = list(temp.keys())\n",
        "values = list(temp.values())  \n",
        "plt.style.use('ggplot')\n",
        "plt.locator_params(axis=\"y\", nbins=15)\n",
        "plt.bar(parameters, values, color ='blue')\n",
        "plt.xlabel(\"K value\")\n",
        "plt.ylabel(\"Score in percentage\")\n",
        "plt.title(\"F1 score comparision of K values\")\n",
        "plt.show()"
      ],
      "metadata": {
        "colab": {
          "base_uri": "https://localhost:8080/",
          "height": 298
        },
        "id": "rJwAu-y3p8tC",
        "outputId": "36afa5b9-d983-4281-8361-af18e1ef2632"
      },
      "execution_count": 11,
      "outputs": [
        {
          "output_type": "display_data",
          "data": {
            "image/png": "[encoded data removed]",
            "text/plain": [
              "<Figure size 432x288 with 1 Axes>"
            ]
          },
          "metadata": {}
        }
      ]
    },
    {
      "cell_type": "markdown",
      "source": [
        "**Storing Performance of optimal K value in a dictionary for visual Data Visualization using bar chart**"
      ],
      "metadata": {
        "id": "9TeT3mXKuxL9"
      }
    },
    {
      "cell_type": "code",
      "source": [
        "parameters = list(results.keys())\n",
        "values = list(results.values())  \n",
        "plt.style.use('ggplot')\n",
        "plt.locator_params(axis=\"y\", nbins=15)\n",
        "plt.bar(parameters, values, color ='blue')\n",
        "plt.xlabel(\"Parameters\")\n",
        "plt.ylabel(\"Score in percentage\")\n",
        "plt.title(\"Performance Analysis of optimal K value\")\n",
        "plt.show()"
      ],
      "metadata": {
        "colab": {
          "base_uri": "https://localhost:8080/",
          "height": 298
        },
        "id": "mgZqSYiSuBf7",
        "outputId": "978a8a24-816c-407b-b0d6-b74f436bfa0b"
      },
      "execution_count": 12,
      "outputs": [
        {
          "output_type": "display_data",
          "data": {
            "image/png": "[encoded data removed]",
            "text/plain": [
              "<Figure size 432x288 with 1 Axes>"
            ]
          },
          "metadata": {}
        }
      ]
    },
    {
      "cell_type": "code",
      "source": [
        "results['number of correct predictions']=len(X_test)-incorrectfinal\n",
        "results[\"number of incorrect predictions\"]=incorrectfinal"
      ],
      "metadata": {
        "id": "jn2XLcIqDwTU"
      },
      "execution_count": 13,
      "outputs": []
    },
    {
      "cell_type": "markdown",
      "source": [
        "**Printing optimal K value results and performance**"
      ],
      "metadata": {
        "id": "e3ZRqr0UwEsI"
      }
    },
    {
      "cell_type": "code",
      "source": [
        "for i in results:\n",
        "  print('\\033[1m',i+\": \",results[i],'\\033[0m',end='',sep='')\n",
        "  if(i!='number of correct predictions' and i!='number of incorrect predictions'):\n",
        "    print('\\033[1m',\"%\",'\\033[0m',)\n",
        "  else:\n",
        "    print()"
      ],
      "metadata": {
        "colab": {
          "base_uri": "https://localhost:8080/"
        },
        "id": "W4Z30WfuHucN",
        "outputId": "0bcf8d23-bcdd-4ed9-809e-9e3fb1a7f7bb"
      },
      "execution_count": 14,
      "outputs": [
        {
          "output_type": "stream",
          "name": "stdout",
          "text": [
            "\u001b[1maccuracy: 94.17\u001b[0m\u001b[1m % \u001b[0m\n",
            "\u001b[1mprecision: 92.68\u001b[0m\u001b[1m % \u001b[0m\n",
            "\u001b[1mrecall: 90.48\u001b[0m\u001b[1m % \u001b[0m\n",
            "\u001b[1mf1score: 91.57\u001b[0m\u001b[1m % \u001b[0m\n",
            "\u001b[1mnumber of correct predictions: 113\u001b[0m\n",
            "\u001b[1mnumber of incorrect predictions: 7\u001b[0m\n"
          ]
        }
      ]
    },
    {
      "cell_type": "code",
      "source": [
        ""
      ],
      "metadata": {
        "id": "pLduHOtgHyi7"
      },
      "execution_count": 14,
      "outputs": []
    }
  ]
}